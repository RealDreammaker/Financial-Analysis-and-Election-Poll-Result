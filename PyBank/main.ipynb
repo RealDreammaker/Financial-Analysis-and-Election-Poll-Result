{
 "cells": [
  {
   "cell_type": "code",
   "execution_count": 30,
   "id": "792b4000-30a6-4555-8598-0834fcd9a8cf",
   "metadata": {},
   "outputs": [],
   "source": [
    "import os\n",
    "import csv\n",
    "\n",
    "fileinputpath = os.path.join(\".\",\"Resources\",\"budget_data.csv\")\n",
    "totalmonths = 0\n",
    "nettotal = 0 \n",
    "changeprofitlost =[]\n",
    "greatestinscreaseprofit = 0 \n",
    "greatestdecreaseprofit = 0 \n",
    "lastprofitlost = 0\n",
    "\n",
    "with open(fileinputpath,\"r\") as csvfileinput:\n",
    "    filecontent = csv.reader(csvfileinput)\n",
    "    header = next(csvfileinput)\n",
    "    for row in filecontent:\n",
    "        currentamount = int(row[1])\n",
    "        totalmonths += 1\n",
    "        nettotal += currentamount\n",
    "        if totalmonths > 1:\n",
    "            currentchange = currentamount- lastprofitlost\n",
    "            changeprofitlost.append(currentchange)\n",
    "        lastprofitlost=currentamount\n",
    "        \n",
    "        if greatestinscreaseprofit < currentchange:\n",
    "            greatestinscreaseprofit = currentchange\n",
    "            greatprofitmonth = row[0]\n",
    "            \n",
    "        if greatestdecreaseprofit > currentchange:\n",
    "            greatestdecreaseprofit = currentchange\n",
    "            greatlostmonth = row[0]\n",
    "\n",
    "totalchange = 0\n",
    "\n",
    "for change in changeprofitlost:\n",
    "    totalchange += change  \n",
    "\n",
    "averagechange = totalchange / (totalmonths -1)\n",
    "        \n",
    "fileoutputpath = os.path.join (\".\",\"Analysis\",\"PerformanceSummary.txt\")\n",
    "\n",
    "with open(fileoutputpath,\"w\") as outputfile:\n",
    "    outputcontent = csv.writer(outputfile)\n",
    "    outputcontent.writerow([\"Financial Analysis\"])\n",
    "    outputcontent.writerow([\"----------------------------\"])\n",
    "    outputcontent.writerow([\"Total Months: \"+ str(totalmonths)])\n",
    "    outputcontent.writerow([\"Total: $\" + str(nettotal)])\n",
    "    outputcontent.writerow([\"Average  Change: $ \"+ str(round(averagechange,2))])\n",
    "    outputcontent.writerow([\"Greatest Increase in Profits: \"+ greatprofitmonth + \" ($\" + str(greatestinscreaseprofit) + \")\"])\n",
    "    outputcontent.writerow([\"Greatest Decrease in Profits: \"+ greatlostmonth + \" ($\" + str(greatestdecreaseprofit) + \")\"])\n",
    "    "
   ]
  },
  {
   "cell_type": "code",
   "execution_count": null,
   "id": "6b4d820e-8f75-4054-86d0-833d0caffd93",
   "metadata": {},
   "outputs": [],
   "source": []
  }
 ],
 "metadata": {
  "kernelspec": {
   "display_name": "Python 3",
   "language": "python",
   "name": "python3"
  },
  "language_info": {
   "codemirror_mode": {
    "name": "ipython",
    "version": 3
   },
   "file_extension": ".py",
   "mimetype": "text/x-python",
   "name": "python",
   "nbconvert_exporter": "python",
   "pygments_lexer": "ipython3",
   "version": "3.8.8"
  }
 },
 "nbformat": 4,
 "nbformat_minor": 5
}
