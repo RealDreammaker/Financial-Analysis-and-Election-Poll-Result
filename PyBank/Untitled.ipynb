{
 "cells": [
  {
   "cell_type": "code",
   "execution_count": null,
   "id": "df0c04e5-ed59-459b-8afe-38e475afddc2",
   "metadata": {
    "tags": []
   },
   "outputs": [],
   "source": [
    "# dfs\n",
    "\n",
    "dfs"
   ]
  },
  {
   "cell_type": "code",
   "execution_count": null,
   "id": "baade796-4a35-4bd5-8849-65d1fd7b861b",
   "metadata": {
    "tags": []
   },
   "outputs": [],
   "source": [
    "# dfshow are you today\n",
    "\n",
    "dfs\n",
    "how are you today"
   ]
  },
  {
   "cell_type": "code",
   "execution_count": null,
   "id": "c4d4ed5d-0cf1-4044-97ea-95c58aba39b0",
   "metadata": {
    "tags": []
   },
   "outputs": [],
   "source": [
    "# dfs\n",
    "p\n",
    "dfshow are you today"
   ]
  },
  {
   "cell_type": "code",
   "execution_count": null,
   "id": "07e197a3-5d1e-475c-a495-f555a47b4fe6",
   "metadata": {},
   "outputs": [],
   "source": []
  },
  {
   "cell_type": "code",
   "execution_count": null,
   "id": "1cfedd1a-f72f-40ed-96da-57efa7811312",
   "metadata": {},
   "outputs": [],
   "source": []
  },
  {
   "cell_type": "code",
   "execution_count": null,
   "id": "256a58d1-e22f-47ec-be9f-b0ba00f5bbd5",
   "metadata": {},
   "outputs": [],
   "source": []
  },
  {
   "cell_type": "code",
   "execution_count": null,
   "id": "ebe1d518-2e1d-4cc0-80ad-d638c90ae2fa",
   "metadata": {},
   "outputs": [],
   "source": []
  },
  {
   "cell_type": "code",
   "execution_count": null,
   "id": "cb76e286-b7c8-4a87-bb2a-83e593c7807f",
   "metadata": {},
   "outputs": [],
   "source": []
  },
  {
   "cell_type": "code",
   "execution_count": null,
   "id": "7eb7448e-977a-47c8-8dab-6e2eb45bafd4",
   "metadata": {},
   "outputs": [],
   "source": []
  },
  {
   "cell_type": "code",
   "execution_count": null,
   "id": "2db2a726-c78e-492f-94a2-7048909d1373",
   "metadata": {},
   "outputs": [],
   "source": []
  },
  {
   "cell_type": "code",
   "execution_count": null,
   "id": "65ec5b03-18c0-4d0b-9047-ae0d229f34aa",
   "metadata": {
    "tags": []
   },
   "outputs": [],
   "source": []
  },
  {
   "cell_type": "code",
   "execution_count": null,
   "id": "5a709dab-5cf8-4be9-8d9a-7aecdd8003ea",
   "metadata": {},
   "outputs": [],
   "source": []
  },
  {
   "cell_type": "code",
   "execution_count": null,
   "id": "bed86e6f-d641-452e-ad02-c989a27a2a75",
   "metadata": {},
   "outputs": [],
   "source": []
  },
  {
   "cell_type": "code",
   "execution_count": null,
   "id": "45c4c49d-3d50-4b5a-8d35-cb19ccf064a9",
   "metadata": {},
   "outputs": [],
   "source": []
  }
 ],
 "metadata": {
  "kernelspec": {
   "display_name": "Python 3",
   "language": "python",
   "name": "python3"
  },
  "language_info": {
   "codemirror_mode": {
    "name": "ipython",
    "version": 3
   },
   "file_extension": ".py",
   "mimetype": "text/x-python",
   "name": "python",
   "nbconvert_exporter": "python",
   "pygments_lexer": "ipython3",
   "version": "3.8.8"
  }
 },
 "nbformat": 4,
 "nbformat_minor": 5
}
